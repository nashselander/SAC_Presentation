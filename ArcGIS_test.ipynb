{
 "cells": [
  {
   "cell_type": "code",
   "execution_count": 95,
   "id": "2999f20f",
   "metadata": {},
   "outputs": [
    {
     "data": {
      "application/vnd.jupyter.widget-view+json": {
       "model_id": "965712f17e074883b270c62f6c0e6403",
       "version_major": 2,
       "version_minor": 0
      },
      "text/plain": [
       "MapView(layout=Layout(height='400px', width='100%'))"
      ]
     },
     "metadata": {},
     "output_type": "display_data"
    },
    {
     "data": {
      "text/html": [
       "<div class=\"map-static-img-preview-38079c60-590b-4e6b-bc6b-25325dc50f31\"><img src=\"\"></img></div>"
      ],
      "text/plain": [
       "<IPython.core.display.HTML object>"
      ]
     },
     "metadata": {},
     "output_type": "display_data"
    },
    {
     "data": {
      "text/html": [
       "<div class=\"map-html-embed-preview-38079c60-590b-4e6b-bc6b-25325dc50f31\"></div>"
      ],
      "text/plain": [
       "<IPython.core.display.HTML object>"
      ]
     },
     "metadata": {},
     "output_type": "display_data"
    }
   ],
   "source": [
    "# Importing arcgis and calling the GIS object from arc.gis module\n",
    "import arcgis\n",
    "from arcgis.gis import GIS\n",
    "\n",
    "# Creating a default GIS object and naming it 'gis'\n",
    "gis = GIS()\n",
    "\n",
    "# Creating a map visualization of Moorhead and naming it 'map'\n",
    "map = gis.map(\"Moorhead, MN\")\n",
    "map"
   ]
  },
  {
   "cell_type": "code",
   "execution_count": 91,
   "id": "4a28586a",
   "metadata": {
    "scrolled": true
   },
   "outputs": [],
   "source": [
    "# Changing the maps zoom to '15'\n",
    "map.zoom = 15"
   ]
  },
  {
   "cell_type": "code",
   "execution_count": 92,
   "id": "a384d5de",
   "metadata": {},
   "outputs": [],
   "source": [
    "# Adjusting the map location with latitude and longitude\n",
    "map.center = [46.8772,-96.7898]\n",
    "map.zoom= 11"
   ]
  },
  {
   "cell_type": "code",
   "execution_count": 89,
   "id": "95c5bd71",
   "metadata": {},
   "outputs": [],
   "source": [
    "# Adds a layter to highlight the freeway system\n",
    "freewaySystem = gis.content.get('91c6a5f6410b4991ab0db1d7c26daacb')\n",
    "map.add_layer(freewaySystem)"
   ]
  },
  {
   "cell_type": "code",
   "execution_count": 90,
   "id": "76fdf97d",
   "metadata": {},
   "outputs": [],
   "source": [
    "# Adds a layer to show the Moorhead city limits\n",
    "cityLimits = gis.content.get('e07e359876a346829e661538b3fd8a29')\n",
    "map.add_layer(cityLimits)"
   ]
  },
  {
   "cell_type": "code",
   "execution_count": 93,
   "id": "b9f073e8",
   "metadata": {},
   "outputs": [],
   "source": [
    "# Allows you to create a circle on the map\n",
    "map.draw('circle')"
   ]
  },
  {
   "cell_type": "code",
   "execution_count": null,
   "id": "95d2b6d6",
   "metadata": {},
   "outputs": [],
   "source": []
  }
 ],
 "metadata": {
  "kernelspec": {
   "display_name": "Python 3",
   "language": "python",
   "name": "python3"
  },
  "language_info": {
   "codemirror_mode": {
    "name": "ipython",
    "version": 3
   },
   "file_extension": ".py",
   "mimetype": "text/x-python",
   "name": "python",
   "nbconvert_exporter": "python",
   "pygments_lexer": "ipython3",
   "version": "3.7.11"
  }
 },
 "nbformat": 4,
 "nbformat_minor": 5
}
